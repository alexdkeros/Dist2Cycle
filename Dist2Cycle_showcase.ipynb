{
 "cells": [
  {
   "cell_type": "markdown",
   "metadata": {
    "toc": true
   },
   "source": [
    "<h1>Table of Contents<span class=\"tocSkip\"></span></h1>\n",
    "<div class=\"toc\"><ul class=\"toc-item\"><li><span><a href=\"#Parameters/Paths\" data-toc-modified-id=\"Parameters/Paths-1\"><span class=\"toc-item-num\">1&nbsp;&nbsp;</span>Parameters/Paths</a></span></li><li><span><a href=\"#Load-dataset\" data-toc-modified-id=\"Load-dataset-2\"><span class=\"toc-item-num\">2&nbsp;&nbsp;</span>Load dataset</a></span></li><li><span><a href=\"#Load-model\" data-toc-modified-id=\"Load-model-3\"><span class=\"toc-item-num\">3&nbsp;&nbsp;</span>Load model</a></span></li><li><span><a href=\"#Examine-random-instances-from-validation\" data-toc-modified-id=\"Examine-random-instances-from-validation-4\"><span class=\"toc-item-num\">4&nbsp;&nbsp;</span>Examine random instances from validation</a></span></li></ul></div>"
   ]
  },
  {
   "cell_type": "code",
   "execution_count": null,
   "metadata": {
    "ExecuteTime": {
     "end_time": "2021-09-11T23:10:29.987248Z",
     "start_time": "2021-09-11T23:10:29.979043Z"
    }
   },
   "outputs": [],
   "source": [
    "import numpy as np\n",
    "import scipy as sp\n",
    "import scipy.linalg as spla\n",
    "import scipy.sparse as spsp\n",
    "import scipy.sparse.linalg as spspla\n",
    "\n",
    "import torch\n",
    "import torch.nn as nn\n",
    "import torch.nn.functional as F\n",
    "import dgl\n",
    "from dgl.data import DGLDataset\n",
    "from dgl.data.utils import save_graphs, load_graphs, save_info, load_info\n",
    "\n",
    "from src.utils.converters import extract_simplices, build_boundaries, build_laplacians, compute_Ltilde_pinv\n",
    "from src.utils.postprocessing import neighborhood_smoothing\n",
    "from src.dataset.ComplexesDatasetLazy import ComplexesDatasetLazy\n",
    "from src.model.Dist2CycleRegressor import Dist2CycleRegressor\n",
    "\n",
    "\n",
    "import matplotlib as mpl\n",
    "import matplotlib.pyplot as plt\n",
    "\n",
    "from src.viz.vizualization import *"
   ]
  },
  {
   "cell_type": "markdown",
   "metadata": {},
   "source": [
    "# Parameters/Paths #"
   ]
  },
  {
   "cell_type": "code",
   "execution_count": null,
   "metadata": {
    "ExecuteTime": {
     "end_time": "2021-09-11T23:23:53.952581Z",
     "start_time": "2021-09-11T23:23:53.942643Z"
    }
   },
   "outputs": [],
   "source": [
    "raw_dir='raw_data/3D/EX_Alpha_D3_HDim2_k10'\n",
    "dataset_path='datasets/3D/LAZY_EX_Alpha_D3_HDim2_k10_boundary_1HD_Lfunc_k10_7_6_0.0'\n",
    "\n",
    "model_config='models/3D/model_params.npy'\n",
    "model_path='models/3D/trained_model.pkl'\n",
    "\n",
    "Laplacian_smoothing_logits=True\n",
    "\n",
    "\n",
    "#vizualization params\n",
    "cmap='jet'\n",
    "default_vals=[0.0,0.5,0.5] #default colors for 0-, 1-, 2-simplices\n",
    "alphas=(0.0, 1.0, 0.4) #opacity of 0-, 1-, 2-simplices\n",
    "figsize=(18,5)"
   ]
  },
  {
   "cell_type": "markdown",
   "metadata": {},
   "source": [
    "# Load dataset #"
   ]
  },
  {
   "cell_type": "code",
   "execution_count": null,
   "metadata": {
    "ExecuteTime": {
     "end_time": "2021-09-11T23:23:54.534459Z",
     "start_time": "2021-09-11T23:23:54.515042Z"
    }
   },
   "outputs": [],
   "source": [
    "dataset_path_split=dataset_path.split('/')\n",
    "dataset_name=dataset_path_split[-1]\n",
    "\n",
    "\n",
    "val_dataset=ComplexesDatasetLazy(raw_dir=raw_dir,\n",
    "                               save_dir='/'.join(dataset_path_split[:-1]),\n",
    "                               saved_dataname=dataset_name,\n",
    "                               mode='val')\n",
    "\n",
    "dataset_index={}\n",
    "for i,data in enumerate(val_dataset):\n",
    "    g,l,gname=data\n",
    "    dataset_index[gname]=i"
   ]
  },
  {
   "cell_type": "markdown",
   "metadata": {},
   "source": [
    "# Load model #"
   ]
  },
  {
   "cell_type": "code",
   "execution_count": null,
   "metadata": {
    "ExecuteTime": {
     "end_time": "2021-09-11T23:23:55.276716Z",
     "start_time": "2021-09-11T23:23:55.254604Z"
    }
   },
   "outputs": [],
   "source": [
    "model_params=np.load(model_config, allow_pickle=True).item()\n",
    "\n",
    "\n",
    "model=Dist2CycleRegressor(in_feats=model_params['in_feats'],\n",
    "             n_layers=model_params['n_layers'],\n",
    "             out_feats=model_params['out_feats'],\n",
    "             hidden_feats=model_params['hidden_feats'],\n",
    "             aggregator_type=model_params['aggregator_type'],\n",
    "             weighted_edges=model_params['weighted_edges'],\n",
    "             fc_bias=model_params['fc_bias'],\n",
    "             norm=model_params['norm'],\n",
    "             fc_activation=model_params['fc_activation'],\n",
    "             out_activation=model_params['out_activation'],\n",
    "             initialization=model_params['initialization'])\n",
    "\n",
    "print(model)\n",
    "checkpoint = torch.load(model_path)\n",
    "model.load_state_dict(checkpoint['model_state_dict'])\n",
    "\n",
    "infeaturesval=model_params['feats']\n",
    "infeaturescols=model_params['featsize']\n",
    "\n",
    "model.eval()\n",
    "loss_criterion = torch.nn.MSELoss()"
   ]
  },
  {
   "cell_type": "code",
   "execution_count": null,
   "metadata": {
    "ExecuteTime": {
     "end_time": "2021-09-11T23:23:55.722062Z",
     "start_time": "2021-09-11T23:23:55.715890Z"
    }
   },
   "outputs": [],
   "source": [
    "def pass_through_model(graph, model ):\n",
    "\n",
    "    eigenvecs=graph.ndata['V'][:,0:infeaturescols]\n",
    "    feats=torch.hstack([graph.ndata['lk_hom'],eigenvecs])\n",
    "\n",
    "    del graph.ndata['V']\n",
    "    del graph.edata['S']\n",
    "\n",
    "    if 'lk_hom' in graph.ndata:\n",
    "        del graph.ndata['lk_hom']\n",
    "\n",
    "    feats=feats.float()\n",
    "\n",
    "    logits=model(graph,feats)\n",
    "\n",
    "    return logits"
   ]
  },
  {
   "cell_type": "markdown",
   "metadata": {},
   "source": [
    "# Examine random instances from validation#"
   ]
  },
  {
   "cell_type": "code",
   "execution_count": null,
   "metadata": {
    "ExecuteTime": {
     "end_time": "2021-09-11T23:24:00.556210Z",
     "start_time": "2021-09-11T23:23:56.781355Z"
    },
    "scrolled": false
   },
   "outputs": [],
   "source": [
    "plt.close('all')\n",
    "\n",
    "num_instances=6\n",
    "\n",
    "num_instances=min(num_instances, len(val_dataset))\n",
    "\n",
    "selected=random.sample(range(len(val_dataset)), num_instances)\n",
    "\n",
    "for i in selected:\n",
    "    graph, labels, gname = val_dataset[i]\n",
    "    \n",
    "    logits=pass_through_model(graph, model)\n",
    "    \n",
    "    labels_ng=labels.cpu().numpy()\n",
    "    logits_ng=logits.squeeze(-1).cpu().detach().numpy()\n",
    "    \n",
    "    #vizualization\n",
    "    pts=np.load(f'{raw_dir}/{gname}_pts.npy', allow_pickle=True)\n",
    "    simplices=np.load(f'{raw_dir}/{gname}_simplices.npy', allow_pickle=True)\n",
    "    \n",
    "    if Laplacian_smoothing_logits:\n",
    "        boundaries=build_boundaries(simplices)\n",
    "        B=boundaries[0].todense()\n",
    "        logits_ng_t=neighborhood_smoothing(B,logits_ng, power=2)\n",
    "        if not np.isnan(logits_ng_t).any():\n",
    "            logits_ng=logits_ng_t\n",
    "    \n",
    "    mse=loss_criterion(labels, torch.tensor(logits_ng))\n",
    "    \n",
    "    plain_distances=[np.array([default_vals[0]]*len(simplices[0])),np.array([default_vals[1]]*len(simplices[1])),np.array([default_vals[2]]*len(simplices[2]))]\n",
    "    \n",
    "    fig=plt.figure(figsize=figsize)\n",
    "    \n",
    "    if pts.shape[1]==3:\n",
    "        ax=fig.add_subplot(131, projection='3d')\n",
    "    else:\n",
    "        ax=fig.add_subplot(131)\n",
    "        \n",
    "    distances_L=plain_distances\n",
    "    distances_L[1]=logits_ng\n",
    "    _,ax_o=complex_pyplot(pts, simplices, distances_L,\n",
    "                        fig=fig, ax=ax, alphas=alphas, cmap=cmap)\n",
    "    ax_o.set_title('Ours')\n",
    "    ax_o.set_axis_off()\n",
    "    \n",
    "    if pts.shape[1]==3:\n",
    "        ax=fig.add_subplot(132, projection='3d')\n",
    "    else:\n",
    "        ax=fig.add_subplot(132)\n",
    "        \n",
    "    distances_L=plain_distances\n",
    "    distances_L[1]=labels_ng\n",
    "    _,ax_r=complex_pyplot(pts, simplices, distances_L,\n",
    "                        fig=fig, ax=ax, alphas=alphas, cmap=cmap)\n",
    "    ax_r.set_title('Reference')\n",
    "    ax_r.set_axis_off()\n",
    "\n",
    "    ax=fig.add_subplot(133)\n",
    "\n",
    "    _,ax_d=distance_plot(labels_ng, logits_ng, \n",
    "                    fig_in=fig, ax_in=ax,\n",
    "                    title=f'MSE:{np.round(mse,3)}')"
   ]
  },
  {
   "cell_type": "code",
   "execution_count": null,
   "metadata": {},
   "outputs": [],
   "source": []
  }
 ],
 "metadata": {
  "kernelspec": {
   "display_name": "Python 3",
   "language": "python",
   "name": "python3"
  },
  "language_info": {
   "codemirror_mode": {
    "name": "ipython",
    "version": 3
   },
   "file_extension": ".py",
   "mimetype": "text/x-python",
   "name": "python",
   "nbconvert_exporter": "python",
   "pygments_lexer": "ipython3",
   "version": "3.7.4"
  },
  "toc": {
   "base_numbering": 1,
   "nav_menu": {},
   "number_sections": true,
   "sideBar": true,
   "skip_h1_title": false,
   "title_cell": "Table of Contents",
   "title_sidebar": "Contents",
   "toc_cell": true,
   "toc_position": {},
   "toc_section_display": true,
   "toc_window_display": true
  },
  "varInspector": {
   "cols": {
    "lenName": 16,
    "lenType": 16,
    "lenVar": 40
   },
   "kernels_config": {
    "python": {
     "delete_cmd_postfix": "",
     "delete_cmd_prefix": "del ",
     "library": "var_list.py",
     "varRefreshCmd": "print(var_dic_list())"
    },
    "r": {
     "delete_cmd_postfix": ") ",
     "delete_cmd_prefix": "rm(",
     "library": "var_list.r",
     "varRefreshCmd": "cat(var_dic_list()) "
    }
   },
   "types_to_exclude": [
    "module",
    "function",
    "builtin_function_or_method",
    "instance",
    "_Feature"
   ],
   "window_display": false
  }
 },
 "nbformat": 4,
 "nbformat_minor": 4
}
